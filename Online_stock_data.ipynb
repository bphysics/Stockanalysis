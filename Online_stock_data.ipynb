{
 "cells": [
  {
   "cell_type": "markdown",
   "metadata": {},
   "source": [
    "### **1. Importing libraries**"
   ]
  },
  {
   "cell_type": "code",
   "execution_count": 4,
   "metadata": {},
   "outputs": [],
   "source": [
    "import yfinance as yf\n",
    "import numpy as np\n",
    "import datetime as dt\n",
    "import pandas as pd\n",
    "import matplotlib.pyplot as plt\n",
    "plt.style.use('seaborn-v0_8-darkgrid')\n",
    "import seaborn as sns\n",
    "from datetime import date"
   ]
  },
  {
   "cell_type": "code",
   "execution_count": 10,
   "metadata": {},
   "outputs": [
    {
     "data": {
      "text/html": [
       "<div>\n",
       "<style scoped>\n",
       "    .dataframe tbody tr th:only-of-type {\n",
       "        vertical-align: middle;\n",
       "    }\n",
       "\n",
       "    .dataframe tbody tr th {\n",
       "        vertical-align: top;\n",
       "    }\n",
       "\n",
       "    .dataframe thead th {\n",
       "        text-align: right;\n",
       "    }\n",
       "</style>\n",
       "<table border=\"1\" class=\"dataframe\">\n",
       "  <thead>\n",
       "    <tr style=\"text-align: right;\">\n",
       "      <th></th>\n",
       "      <th>fiscalDateEnding</th>\n",
       "      <th>reportedCurrency</th>\n",
       "      <th>grossProfit</th>\n",
       "      <th>totalRevenue</th>\n",
       "      <th>costOfRevenue</th>\n",
       "      <th>costofGoodsAndServicesSold</th>\n",
       "      <th>operatingIncome</th>\n",
       "      <th>sellingGeneralAndAdministrative</th>\n",
       "      <th>researchAndDevelopment</th>\n",
       "      <th>operatingExpenses</th>\n",
       "      <th>...</th>\n",
       "      <th>depreciation</th>\n",
       "      <th>depreciationAndAmortization</th>\n",
       "      <th>incomeBeforeTax</th>\n",
       "      <th>incomeTaxExpense</th>\n",
       "      <th>interestAndDebtExpense</th>\n",
       "      <th>netIncomeFromContinuingOperations</th>\n",
       "      <th>comprehensiveIncomeNetOfTax</th>\n",
       "      <th>ebit</th>\n",
       "      <th>ebitda</th>\n",
       "      <th>netIncome</th>\n",
       "    </tr>\n",
       "  </thead>\n",
       "  <tbody>\n",
       "    <tr>\n",
       "      <th>0</th>\n",
       "      <td>2023-01-29</td>\n",
       "      <td>USD</td>\n",
       "      <td>15356000000</td>\n",
       "      <td>26974000000</td>\n",
       "      <td>11618000000</td>\n",
       "      <td>1040000000</td>\n",
       "      <td>4224000000</td>\n",
       "      <td>2440000000</td>\n",
       "      <td>7339000000</td>\n",
       "      <td>11132000000</td>\n",
       "      <td>...</td>\n",
       "      <td>844000000</td>\n",
       "      <td>699000000</td>\n",
       "      <td>4181000000</td>\n",
       "      <td>-187000000</td>\n",
       "      <td>262000000</td>\n",
       "      <td>4368000000</td>\n",
       "      <td>4336000000</td>\n",
       "      <td>4443000000</td>\n",
       "      <td>5142000000</td>\n",
       "      <td>4368000000</td>\n",
       "    </tr>\n",
       "    <tr>\n",
       "      <th>1</th>\n",
       "      <td>2022-01-30</td>\n",
       "      <td>USD</td>\n",
       "      <td>17475000000</td>\n",
       "      <td>26914000000</td>\n",
       "      <td>9439000000</td>\n",
       "      <td>173000000</td>\n",
       "      <td>10041000000</td>\n",
       "      <td>2166000000</td>\n",
       "      <td>5268000000</td>\n",
       "      <td>7434000000</td>\n",
       "      <td>...</td>\n",
       "      <td>611000000</td>\n",
       "      <td>563000000</td>\n",
       "      <td>9941000000</td>\n",
       "      <td>189000000</td>\n",
       "      <td>236000000</td>\n",
       "      <td>9752000000</td>\n",
       "      <td>9722000000</td>\n",
       "      <td>10177000000</td>\n",
       "      <td>10740000000</td>\n",
       "      <td>9752000000</td>\n",
       "    </tr>\n",
       "    <tr>\n",
       "      <th>2</th>\n",
       "      <td>2021-01-31</td>\n",
       "      <td>USD</td>\n",
       "      <td>10396000000</td>\n",
       "      <td>16675000000</td>\n",
       "      <td>6279000000</td>\n",
       "      <td>6279000000</td>\n",
       "      <td>4532000000</td>\n",
       "      <td>1940000000</td>\n",
       "      <td>3924000000</td>\n",
       "      <td>5864000000</td>\n",
       "      <td>...</td>\n",
       "      <td>486000000</td>\n",
       "      <td>1098000000</td>\n",
       "      <td>4409000000</td>\n",
       "      <td>77000000</td>\n",
       "      <td>184000000</td>\n",
       "      <td>4332000000</td>\n",
       "      <td>4350000000</td>\n",
       "      <td>4593000000</td>\n",
       "      <td>5691000000</td>\n",
       "      <td>4332000000</td>\n",
       "    </tr>\n",
       "    <tr>\n",
       "      <th>3</th>\n",
       "      <td>2020-01-26</td>\n",
       "      <td>USD</td>\n",
       "      <td>6768000000</td>\n",
       "      <td>10918000000</td>\n",
       "      <td>4150000000</td>\n",
       "      <td>4150000000</td>\n",
       "      <td>2846000000</td>\n",
       "      <td>1093000000</td>\n",
       "      <td>2829000000</td>\n",
       "      <td>3922000000</td>\n",
       "      <td>...</td>\n",
       "      <td>355000000</td>\n",
       "      <td>381000000</td>\n",
       "      <td>2970000000</td>\n",
       "      <td>174000000</td>\n",
       "      <td>52000000</td>\n",
       "      <td>2796000000</td>\n",
       "      <td>2809000000</td>\n",
       "      <td>3022000000</td>\n",
       "      <td>3403000000</td>\n",
       "      <td>2796000000</td>\n",
       "    </tr>\n",
       "    <tr>\n",
       "      <th>4</th>\n",
       "      <td>2019-01-27</td>\n",
       "      <td>USD</td>\n",
       "      <td>7171000000</td>\n",
       "      <td>11658000000</td>\n",
       "      <td>5798000000</td>\n",
       "      <td>4545000000</td>\n",
       "      <td>3804000000</td>\n",
       "      <td>991000000</td>\n",
       "      <td>2376000000</td>\n",
       "      <td>3367000000</td>\n",
       "      <td>...</td>\n",
       "      <td>233000000</td>\n",
       "      <td>262000000</td>\n",
       "      <td>3896000000</td>\n",
       "      <td>-245000000</td>\n",
       "      <td>58000000</td>\n",
       "      <td>4141000000</td>\n",
       "      <td>4147000000</td>\n",
       "      <td>3954000000</td>\n",
       "      <td>4216000000</td>\n",
       "      <td>4141000000</td>\n",
       "    </tr>\n",
       "  </tbody>\n",
       "</table>\n",
       "<p>5 rows × 26 columns</p>\n",
       "</div>"
      ],
      "text/plain": [
       "  fiscalDateEnding reportedCurrency  grossProfit totalRevenue costOfRevenue  \\\n",
       "0       2023-01-29              USD  15356000000  26974000000   11618000000   \n",
       "1       2022-01-30              USD  17475000000  26914000000    9439000000   \n",
       "2       2021-01-31              USD  10396000000  16675000000    6279000000   \n",
       "3       2020-01-26              USD   6768000000  10918000000    4150000000   \n",
       "4       2019-01-27              USD   7171000000  11658000000    5798000000   \n",
       "\n",
       "  costofGoodsAndServicesSold operatingIncome sellingGeneralAndAdministrative  \\\n",
       "0                 1040000000      4224000000                      2440000000   \n",
       "1                  173000000     10041000000                      2166000000   \n",
       "2                 6279000000      4532000000                      1940000000   \n",
       "3                 4150000000      2846000000                      1093000000   \n",
       "4                 4545000000      3804000000                       991000000   \n",
       "\n",
       "  researchAndDevelopment operatingExpenses  ... depreciation  \\\n",
       "0             7339000000       11132000000  ...    844000000   \n",
       "1             5268000000        7434000000  ...    611000000   \n",
       "2             3924000000        5864000000  ...    486000000   \n",
       "3             2829000000        3922000000  ...    355000000   \n",
       "4             2376000000        3367000000  ...    233000000   \n",
       "\n",
       "  depreciationAndAmortization incomeBeforeTax incomeTaxExpense  \\\n",
       "0                   699000000      4181000000       -187000000   \n",
       "1                   563000000      9941000000        189000000   \n",
       "2                  1098000000      4409000000         77000000   \n",
       "3                   381000000      2970000000        174000000   \n",
       "4                   262000000      3896000000       -245000000   \n",
       "\n",
       "  interestAndDebtExpense netIncomeFromContinuingOperations  \\\n",
       "0              262000000                        4368000000   \n",
       "1              236000000                        9752000000   \n",
       "2              184000000                        4332000000   \n",
       "3               52000000                        2796000000   \n",
       "4               58000000                        4141000000   \n",
       "\n",
       "  comprehensiveIncomeNetOfTax         ebit       ebitda   netIncome  \n",
       "0                  4336000000   4443000000   5142000000  4368000000  \n",
       "1                  9722000000  10177000000  10740000000  9752000000  \n",
       "2                  4350000000   4593000000   5691000000  4332000000  \n",
       "3                  2809000000   3022000000   3403000000  2796000000  \n",
       "4                  4147000000   3954000000   4216000000  4141000000  \n",
       "\n",
       "[5 rows x 26 columns]"
      ]
     },
     "execution_count": 10,
     "metadata": {},
     "output_type": "execute_result"
    }
   ],
   "source": [
    "import requests\n",
    "import pandas as pd\n",
    "\n",
    "# Define your API key and the stock symbol\n",
    "api_key = \"WSIBLHJ2DMO2ZX03\"\n",
    "symbol = \"NVDA\"\n",
    "\n",
    "# Define the API endpoint for annual revenue data\n",
    "endpoint = f\"https://www.alphavantage.co/query?function=INCOME_STATEMENT&symbol={symbol}&apikey={api_key}\"\n",
    "\n",
    "# Make a GET request to the API\n",
    "response = requests.get(endpoint)\n",
    "\n",
    "# Check if the request was successful\n",
    "if response.status_code == 200:\n",
    "    # Parse the JSON response\n",
    "    data = response.json()\n",
    "\n",
    "    # Convert data to a pandas DataFrame\n",
    "    df = pd.DataFrame(data[\"annualReports\"])\n",
    "    #df = pd.DataFrame(index= df['fiscalDateEnding'])\n",
    "\n",
    "    # Print the revenue data\n",
    "    #print(df)\n",
    "else:\n",
    "    print(\"Failed to retrieve data. Status code:\", response.status_code)\n",
    "    \n",
    "df"
   ]
  },
  {
   "cell_type": "code",
   "execution_count": 17,
   "metadata": {},
   "outputs": [
    {
     "data": {
      "text/plain": [
       "fiscalDateEnding                     object\n",
       "reportedCurrency                     object\n",
       "grossProfit                          object\n",
       "totalRevenue                         object\n",
       "costOfRevenue                        object\n",
       "costofGoodsAndServicesSold           object\n",
       "operatingIncome                      object\n",
       "sellingGeneralAndAdministrative      object\n",
       "researchAndDevelopment               object\n",
       "operatingExpenses                    object\n",
       "investmentIncomeNet                  object\n",
       "netInterestIncome                    object\n",
       "interestIncome                       object\n",
       "interestExpense                      object\n",
       "nonInterestIncome                    object\n",
       "otherNonOperatingIncome              object\n",
       "depreciation                         object\n",
       "depreciationAndAmortization          object\n",
       "incomeBeforeTax                      object\n",
       "incomeTaxExpense                     object\n",
       "interestAndDebtExpense               object\n",
       "netIncomeFromContinuingOperations    object\n",
       "comprehensiveIncomeNetOfTax          object\n",
       "ebit                                 object\n",
       "ebitda                               object\n",
       "netIncome                            object\n",
       "dtype: object"
      ]
     },
     "execution_count": 17,
     "metadata": {},
     "output_type": "execute_result"
    }
   ],
   "source": [
    "df.dtypes"
   ]
  },
  {
   "cell_type": "code",
   "execution_count": 13,
   "metadata": {},
   "outputs": [
    {
     "data": {
      "text/html": [
       "<div>\n",
       "<style scoped>\n",
       "    .dataframe tbody tr th:only-of-type {\n",
       "        vertical-align: middle;\n",
       "    }\n",
       "\n",
       "    .dataframe tbody tr th {\n",
       "        vertical-align: top;\n",
       "    }\n",
       "\n",
       "    .dataframe thead th {\n",
       "        text-align: right;\n",
       "    }\n",
       "</style>\n",
       "<table border=\"1\" class=\"dataframe\">\n",
       "  <thead>\n",
       "    <tr style=\"text-align: right;\">\n",
       "      <th></th>\n",
       "      <th>fiscalDateEnding</th>\n",
       "      <th>reportedCurrency</th>\n",
       "      <th>grossProfit</th>\n",
       "      <th>totalRevenue</th>\n",
       "      <th>costOfRevenue</th>\n",
       "      <th>costofGoodsAndServicesSold</th>\n",
       "      <th>operatingIncome</th>\n",
       "      <th>sellingGeneralAndAdministrative</th>\n",
       "      <th>researchAndDevelopment</th>\n",
       "      <th>operatingExpenses</th>\n",
       "      <th>...</th>\n",
       "      <th>depreciation</th>\n",
       "      <th>depreciationAndAmortization</th>\n",
       "      <th>incomeBeforeTax</th>\n",
       "      <th>incomeTaxExpense</th>\n",
       "      <th>interestAndDebtExpense</th>\n",
       "      <th>netIncomeFromContinuingOperations</th>\n",
       "      <th>comprehensiveIncomeNetOfTax</th>\n",
       "      <th>ebit</th>\n",
       "      <th>ebitda</th>\n",
       "      <th>netIncome</th>\n",
       "    </tr>\n",
       "  </thead>\n",
       "  <tbody>\n",
       "    <tr>\n",
       "      <th>0</th>\n",
       "      <td>2023-01-29</td>\n",
       "      <td>USD</td>\n",
       "      <td>15356000000</td>\n",
       "      <td>26974000000</td>\n",
       "      <td>11618000000</td>\n",
       "      <td>1040000000</td>\n",
       "      <td>4224000000</td>\n",
       "      <td>2440000000</td>\n",
       "      <td>7339000000</td>\n",
       "      <td>11132000000</td>\n",
       "      <td>...</td>\n",
       "      <td>844000000</td>\n",
       "      <td>699000000</td>\n",
       "      <td>4181000000</td>\n",
       "      <td>-187000000</td>\n",
       "      <td>262000000</td>\n",
       "      <td>4368000000</td>\n",
       "      <td>4336000000</td>\n",
       "      <td>4443000000</td>\n",
       "      <td>5142000000</td>\n",
       "      <td>4368000000</td>\n",
       "    </tr>\n",
       "    <tr>\n",
       "      <th>1</th>\n",
       "      <td>2022-01-30</td>\n",
       "      <td>USD</td>\n",
       "      <td>17475000000</td>\n",
       "      <td>26914000000</td>\n",
       "      <td>9439000000</td>\n",
       "      <td>173000000</td>\n",
       "      <td>10041000000</td>\n",
       "      <td>2166000000</td>\n",
       "      <td>5268000000</td>\n",
       "      <td>7434000000</td>\n",
       "      <td>...</td>\n",
       "      <td>611000000</td>\n",
       "      <td>563000000</td>\n",
       "      <td>9941000000</td>\n",
       "      <td>189000000</td>\n",
       "      <td>236000000</td>\n",
       "      <td>9752000000</td>\n",
       "      <td>9722000000</td>\n",
       "      <td>10177000000</td>\n",
       "      <td>10740000000</td>\n",
       "      <td>9752000000</td>\n",
       "    </tr>\n",
       "    <tr>\n",
       "      <th>2</th>\n",
       "      <td>2021-01-31</td>\n",
       "      <td>USD</td>\n",
       "      <td>10396000000</td>\n",
       "      <td>16675000000</td>\n",
       "      <td>6279000000</td>\n",
       "      <td>6279000000</td>\n",
       "      <td>4532000000</td>\n",
       "      <td>1940000000</td>\n",
       "      <td>3924000000</td>\n",
       "      <td>5864000000</td>\n",
       "      <td>...</td>\n",
       "      <td>486000000</td>\n",
       "      <td>1098000000</td>\n",
       "      <td>4409000000</td>\n",
       "      <td>77000000</td>\n",
       "      <td>184000000</td>\n",
       "      <td>4332000000</td>\n",
       "      <td>4350000000</td>\n",
       "      <td>4593000000</td>\n",
       "      <td>5691000000</td>\n",
       "      <td>4332000000</td>\n",
       "    </tr>\n",
       "    <tr>\n",
       "      <th>3</th>\n",
       "      <td>2020-01-26</td>\n",
       "      <td>USD</td>\n",
       "      <td>6768000000</td>\n",
       "      <td>10918000000</td>\n",
       "      <td>4150000000</td>\n",
       "      <td>4150000000</td>\n",
       "      <td>2846000000</td>\n",
       "      <td>1093000000</td>\n",
       "      <td>2829000000</td>\n",
       "      <td>3922000000</td>\n",
       "      <td>...</td>\n",
       "      <td>355000000</td>\n",
       "      <td>381000000</td>\n",
       "      <td>2970000000</td>\n",
       "      <td>174000000</td>\n",
       "      <td>52000000</td>\n",
       "      <td>2796000000</td>\n",
       "      <td>2809000000</td>\n",
       "      <td>3022000000</td>\n",
       "      <td>3403000000</td>\n",
       "      <td>2796000000</td>\n",
       "    </tr>\n",
       "    <tr>\n",
       "      <th>4</th>\n",
       "      <td>2019-01-27</td>\n",
       "      <td>USD</td>\n",
       "      <td>7171000000</td>\n",
       "      <td>11658000000</td>\n",
       "      <td>5798000000</td>\n",
       "      <td>4545000000</td>\n",
       "      <td>3804000000</td>\n",
       "      <td>991000000</td>\n",
       "      <td>2376000000</td>\n",
       "      <td>3367000000</td>\n",
       "      <td>...</td>\n",
       "      <td>233000000</td>\n",
       "      <td>262000000</td>\n",
       "      <td>3896000000</td>\n",
       "      <td>-245000000</td>\n",
       "      <td>58000000</td>\n",
       "      <td>4141000000</td>\n",
       "      <td>4147000000</td>\n",
       "      <td>3954000000</td>\n",
       "      <td>4216000000</td>\n",
       "      <td>4141000000</td>\n",
       "    </tr>\n",
       "  </tbody>\n",
       "</table>\n",
       "<p>5 rows × 26 columns</p>\n",
       "</div>"
      ],
      "text/plain": [
       "  fiscalDateEnding reportedCurrency  grossProfit totalRevenue costOfRevenue  \\\n",
       "0       2023-01-29              USD  15356000000  26974000000   11618000000   \n",
       "1       2022-01-30              USD  17475000000  26914000000    9439000000   \n",
       "2       2021-01-31              USD  10396000000  16675000000    6279000000   \n",
       "3       2020-01-26              USD   6768000000  10918000000    4150000000   \n",
       "4       2019-01-27              USD   7171000000  11658000000    5798000000   \n",
       "\n",
       "  costofGoodsAndServicesSold operatingIncome sellingGeneralAndAdministrative  \\\n",
       "0                 1040000000      4224000000                      2440000000   \n",
       "1                  173000000     10041000000                      2166000000   \n",
       "2                 6279000000      4532000000                      1940000000   \n",
       "3                 4150000000      2846000000                      1093000000   \n",
       "4                 4545000000      3804000000                       991000000   \n",
       "\n",
       "  researchAndDevelopment operatingExpenses  ... depreciation  \\\n",
       "0             7339000000       11132000000  ...    844000000   \n",
       "1             5268000000        7434000000  ...    611000000   \n",
       "2             3924000000        5864000000  ...    486000000   \n",
       "3             2829000000        3922000000  ...    355000000   \n",
       "4             2376000000        3367000000  ...    233000000   \n",
       "\n",
       "  depreciationAndAmortization incomeBeforeTax incomeTaxExpense  \\\n",
       "0                   699000000      4181000000       -187000000   \n",
       "1                   563000000      9941000000        189000000   \n",
       "2                  1098000000      4409000000         77000000   \n",
       "3                   381000000      2970000000        174000000   \n",
       "4                   262000000      3896000000       -245000000   \n",
       "\n",
       "  interestAndDebtExpense netIncomeFromContinuingOperations  \\\n",
       "0              262000000                        4368000000   \n",
       "1              236000000                        9752000000   \n",
       "2              184000000                        4332000000   \n",
       "3               52000000                        2796000000   \n",
       "4               58000000                        4141000000   \n",
       "\n",
       "  comprehensiveIncomeNetOfTax         ebit       ebitda   netIncome  \n",
       "0                  4336000000   4443000000   5142000000  4368000000  \n",
       "1                  9722000000  10177000000  10740000000  9752000000  \n",
       "2                  4350000000   4593000000   5691000000  4332000000  \n",
       "3                  2809000000   3022000000   3403000000  2796000000  \n",
       "4                  4147000000   3954000000   4216000000  4141000000  \n",
       "\n",
       "[5 rows x 26 columns]"
      ]
     },
     "execution_count": 13,
     "metadata": {},
     "output_type": "execute_result"
    }
   ],
   "source": [
    "df.set_index('fiscalDateEnding')\n",
    "df"
   ]
  },
  {
   "cell_type": "code",
   "execution_count": 7,
   "metadata": {},
   "outputs": [
    {
     "ename": "ValueError",
     "evalue": "could not convert string to float: 'None'",
     "output_type": "error",
     "traceback": [
      "\u001b[1;31m---------------------------------------------------------------------------\u001b[0m",
      "\u001b[1;31mValueError\u001b[0m                                Traceback (most recent call last)",
      "Cell \u001b[1;32mIn[7], line 7\u001b[0m\n\u001b[0;32m      5\u001b[0m \u001b[38;5;28;01mfor\u001b[39;00m col \u001b[38;5;129;01min\u001b[39;00m df\u001b[38;5;241m.\u001b[39mcolumns:\n\u001b[0;32m      6\u001b[0m     \u001b[38;5;28;01mif\u001b[39;00m col \u001b[38;5;129;01mnot\u001b[39;00m \u001b[38;5;129;01min\u001b[39;00m dtype_exceptions:\n\u001b[1;32m----> 7\u001b[0m         df[col] \u001b[38;5;241m=\u001b[39m \u001b[43mdf\u001b[49m\u001b[43m[\u001b[49m\u001b[43mcol\u001b[49m\u001b[43m]\u001b[49m\u001b[38;5;241;43m.\u001b[39;49m\u001b[43mfillna\u001b[49m\u001b[43m(\u001b[49m\u001b[38;5;241;43m0\u001b[39;49m\u001b[43m)\u001b[49m\u001b[38;5;241;43m.\u001b[39;49m\u001b[43mastype\u001b[49m\u001b[43m(\u001b[49m\u001b[38;5;28;43mfloat\u001b[39;49m\u001b[43m)\u001b[49m  \u001b[38;5;66;03m# Change the data type to the desired type\u001b[39;00m\n\u001b[0;32m      9\u001b[0m \u001b[38;5;66;03m# Print the DataFrame\u001b[39;00m\n\u001b[0;32m     10\u001b[0m \u001b[38;5;28mprint\u001b[39m(df\u001b[38;5;241m.\u001b[39mdtypes)\n",
      "File \u001b[1;32m~\\anaconda3\\lib\\site-packages\\pandas\\core\\generic.py:6240\u001b[0m, in \u001b[0;36mNDFrame.astype\u001b[1;34m(self, dtype, copy, errors)\u001b[0m\n\u001b[0;32m   6233\u001b[0m     results \u001b[38;5;241m=\u001b[39m [\n\u001b[0;32m   6234\u001b[0m         \u001b[38;5;28mself\u001b[39m\u001b[38;5;241m.\u001b[39miloc[:, i]\u001b[38;5;241m.\u001b[39mastype(dtype, copy\u001b[38;5;241m=\u001b[39mcopy)\n\u001b[0;32m   6235\u001b[0m         \u001b[38;5;28;01mfor\u001b[39;00m i \u001b[38;5;129;01min\u001b[39;00m \u001b[38;5;28mrange\u001b[39m(\u001b[38;5;28mlen\u001b[39m(\u001b[38;5;28mself\u001b[39m\u001b[38;5;241m.\u001b[39mcolumns))\n\u001b[0;32m   6236\u001b[0m     ]\n\u001b[0;32m   6238\u001b[0m \u001b[38;5;28;01melse\u001b[39;00m:\n\u001b[0;32m   6239\u001b[0m     \u001b[38;5;66;03m# else, only a single dtype is given\u001b[39;00m\n\u001b[1;32m-> 6240\u001b[0m     new_data \u001b[38;5;241m=\u001b[39m \u001b[38;5;28;43mself\u001b[39;49m\u001b[38;5;241;43m.\u001b[39;49m\u001b[43m_mgr\u001b[49m\u001b[38;5;241;43m.\u001b[39;49m\u001b[43mastype\u001b[49m\u001b[43m(\u001b[49m\u001b[43mdtype\u001b[49m\u001b[38;5;241;43m=\u001b[39;49m\u001b[43mdtype\u001b[49m\u001b[43m,\u001b[49m\u001b[43m \u001b[49m\u001b[43mcopy\u001b[49m\u001b[38;5;241;43m=\u001b[39;49m\u001b[43mcopy\u001b[49m\u001b[43m,\u001b[49m\u001b[43m \u001b[49m\u001b[43merrors\u001b[49m\u001b[38;5;241;43m=\u001b[39;49m\u001b[43merrors\u001b[49m\u001b[43m)\u001b[49m\n\u001b[0;32m   6241\u001b[0m     \u001b[38;5;28;01mreturn\u001b[39;00m \u001b[38;5;28mself\u001b[39m\u001b[38;5;241m.\u001b[39m_constructor(new_data)\u001b[38;5;241m.\u001b[39m__finalize__(\u001b[38;5;28mself\u001b[39m, method\u001b[38;5;241m=\u001b[39m\u001b[38;5;124m\"\u001b[39m\u001b[38;5;124mastype\u001b[39m\u001b[38;5;124m\"\u001b[39m)\n\u001b[0;32m   6243\u001b[0m \u001b[38;5;66;03m# GH 33113: handle empty frame or series\u001b[39;00m\n",
      "File \u001b[1;32m~\\anaconda3\\lib\\site-packages\\pandas\\core\\internals\\managers.py:448\u001b[0m, in \u001b[0;36mBaseBlockManager.astype\u001b[1;34m(self, dtype, copy, errors)\u001b[0m\n\u001b[0;32m    447\u001b[0m \u001b[38;5;28;01mdef\u001b[39;00m \u001b[38;5;21mastype\u001b[39m(\u001b[38;5;28mself\u001b[39m: T, dtype, copy: \u001b[38;5;28mbool\u001b[39m \u001b[38;5;241m=\u001b[39m \u001b[38;5;28;01mFalse\u001b[39;00m, errors: \u001b[38;5;28mstr\u001b[39m \u001b[38;5;241m=\u001b[39m \u001b[38;5;124m\"\u001b[39m\u001b[38;5;124mraise\u001b[39m\u001b[38;5;124m\"\u001b[39m) \u001b[38;5;241m-\u001b[39m\u001b[38;5;241m>\u001b[39m T:\n\u001b[1;32m--> 448\u001b[0m     \u001b[38;5;28;01mreturn\u001b[39;00m \u001b[38;5;28;43mself\u001b[39;49m\u001b[38;5;241;43m.\u001b[39;49m\u001b[43mapply\u001b[49m\u001b[43m(\u001b[49m\u001b[38;5;124;43m\"\u001b[39;49m\u001b[38;5;124;43mastype\u001b[39;49m\u001b[38;5;124;43m\"\u001b[39;49m\u001b[43m,\u001b[49m\u001b[43m \u001b[49m\u001b[43mdtype\u001b[49m\u001b[38;5;241;43m=\u001b[39;49m\u001b[43mdtype\u001b[49m\u001b[43m,\u001b[49m\u001b[43m \u001b[49m\u001b[43mcopy\u001b[49m\u001b[38;5;241;43m=\u001b[39;49m\u001b[43mcopy\u001b[49m\u001b[43m,\u001b[49m\u001b[43m \u001b[49m\u001b[43merrors\u001b[49m\u001b[38;5;241;43m=\u001b[39;49m\u001b[43merrors\u001b[49m\u001b[43m)\u001b[49m\n",
      "File \u001b[1;32m~\\anaconda3\\lib\\site-packages\\pandas\\core\\internals\\managers.py:352\u001b[0m, in \u001b[0;36mBaseBlockManager.apply\u001b[1;34m(self, f, align_keys, ignore_failures, **kwargs)\u001b[0m\n\u001b[0;32m    350\u001b[0m         applied \u001b[38;5;241m=\u001b[39m b\u001b[38;5;241m.\u001b[39mapply(f, \u001b[38;5;241m*\u001b[39m\u001b[38;5;241m*\u001b[39mkwargs)\n\u001b[0;32m    351\u001b[0m     \u001b[38;5;28;01melse\u001b[39;00m:\n\u001b[1;32m--> 352\u001b[0m         applied \u001b[38;5;241m=\u001b[39m \u001b[38;5;28mgetattr\u001b[39m(b, f)(\u001b[38;5;241m*\u001b[39m\u001b[38;5;241m*\u001b[39mkwargs)\n\u001b[0;32m    353\u001b[0m \u001b[38;5;28;01mexcept\u001b[39;00m (\u001b[38;5;167;01mTypeError\u001b[39;00m, \u001b[38;5;167;01mNotImplementedError\u001b[39;00m):\n\u001b[0;32m    354\u001b[0m     \u001b[38;5;28;01mif\u001b[39;00m \u001b[38;5;129;01mnot\u001b[39;00m ignore_failures:\n",
      "File \u001b[1;32m~\\anaconda3\\lib\\site-packages\\pandas\\core\\internals\\blocks.py:526\u001b[0m, in \u001b[0;36mBlock.astype\u001b[1;34m(self, dtype, copy, errors)\u001b[0m\n\u001b[0;32m    508\u001b[0m \u001b[38;5;124;03m\"\"\"\u001b[39;00m\n\u001b[0;32m    509\u001b[0m \u001b[38;5;124;03mCoerce to the new dtype.\u001b[39;00m\n\u001b[0;32m    510\u001b[0m \n\u001b[1;32m   (...)\u001b[0m\n\u001b[0;32m    522\u001b[0m \u001b[38;5;124;03mBlock\u001b[39;00m\n\u001b[0;32m    523\u001b[0m \u001b[38;5;124;03m\"\"\"\u001b[39;00m\n\u001b[0;32m    524\u001b[0m values \u001b[38;5;241m=\u001b[39m \u001b[38;5;28mself\u001b[39m\u001b[38;5;241m.\u001b[39mvalues\n\u001b[1;32m--> 526\u001b[0m new_values \u001b[38;5;241m=\u001b[39m \u001b[43mastype_array_safe\u001b[49m\u001b[43m(\u001b[49m\u001b[43mvalues\u001b[49m\u001b[43m,\u001b[49m\u001b[43m \u001b[49m\u001b[43mdtype\u001b[49m\u001b[43m,\u001b[49m\u001b[43m \u001b[49m\u001b[43mcopy\u001b[49m\u001b[38;5;241;43m=\u001b[39;49m\u001b[43mcopy\u001b[49m\u001b[43m,\u001b[49m\u001b[43m \u001b[49m\u001b[43merrors\u001b[49m\u001b[38;5;241;43m=\u001b[39;49m\u001b[43merrors\u001b[49m\u001b[43m)\u001b[49m\n\u001b[0;32m    528\u001b[0m new_values \u001b[38;5;241m=\u001b[39m maybe_coerce_values(new_values)\n\u001b[0;32m    529\u001b[0m newb \u001b[38;5;241m=\u001b[39m \u001b[38;5;28mself\u001b[39m\u001b[38;5;241m.\u001b[39mmake_block(new_values)\n",
      "File \u001b[1;32m~\\anaconda3\\lib\\site-packages\\pandas\\core\\dtypes\\astype.py:299\u001b[0m, in \u001b[0;36mastype_array_safe\u001b[1;34m(values, dtype, copy, errors)\u001b[0m\n\u001b[0;32m    296\u001b[0m     \u001b[38;5;28;01mreturn\u001b[39;00m values\u001b[38;5;241m.\u001b[39mcopy()\n\u001b[0;32m    298\u001b[0m \u001b[38;5;28;01mtry\u001b[39;00m:\n\u001b[1;32m--> 299\u001b[0m     new_values \u001b[38;5;241m=\u001b[39m \u001b[43mastype_array\u001b[49m\u001b[43m(\u001b[49m\u001b[43mvalues\u001b[49m\u001b[43m,\u001b[49m\u001b[43m \u001b[49m\u001b[43mdtype\u001b[49m\u001b[43m,\u001b[49m\u001b[43m \u001b[49m\u001b[43mcopy\u001b[49m\u001b[38;5;241;43m=\u001b[39;49m\u001b[43mcopy\u001b[49m\u001b[43m)\u001b[49m\n\u001b[0;32m    300\u001b[0m \u001b[38;5;28;01mexcept\u001b[39;00m (\u001b[38;5;167;01mValueError\u001b[39;00m, \u001b[38;5;167;01mTypeError\u001b[39;00m):\n\u001b[0;32m    301\u001b[0m     \u001b[38;5;66;03m# e.g. astype_nansafe can fail on object-dtype of strings\u001b[39;00m\n\u001b[0;32m    302\u001b[0m     \u001b[38;5;66;03m#  trying to convert to float\u001b[39;00m\n\u001b[0;32m    303\u001b[0m     \u001b[38;5;28;01mif\u001b[39;00m errors \u001b[38;5;241m==\u001b[39m \u001b[38;5;124m\"\u001b[39m\u001b[38;5;124mignore\u001b[39m\u001b[38;5;124m\"\u001b[39m:\n",
      "File \u001b[1;32m~\\anaconda3\\lib\\site-packages\\pandas\\core\\dtypes\\astype.py:230\u001b[0m, in \u001b[0;36mastype_array\u001b[1;34m(values, dtype, copy)\u001b[0m\n\u001b[0;32m    227\u001b[0m     values \u001b[38;5;241m=\u001b[39m values\u001b[38;5;241m.\u001b[39mastype(dtype, copy\u001b[38;5;241m=\u001b[39mcopy)\n\u001b[0;32m    229\u001b[0m \u001b[38;5;28;01melse\u001b[39;00m:\n\u001b[1;32m--> 230\u001b[0m     values \u001b[38;5;241m=\u001b[39m \u001b[43mastype_nansafe\u001b[49m\u001b[43m(\u001b[49m\u001b[43mvalues\u001b[49m\u001b[43m,\u001b[49m\u001b[43m \u001b[49m\u001b[43mdtype\u001b[49m\u001b[43m,\u001b[49m\u001b[43m \u001b[49m\u001b[43mcopy\u001b[49m\u001b[38;5;241;43m=\u001b[39;49m\u001b[43mcopy\u001b[49m\u001b[43m)\u001b[49m\n\u001b[0;32m    232\u001b[0m \u001b[38;5;66;03m# in pandas we don't store numpy str dtypes, so convert to object\u001b[39;00m\n\u001b[0;32m    233\u001b[0m \u001b[38;5;28;01mif\u001b[39;00m \u001b[38;5;28misinstance\u001b[39m(dtype, np\u001b[38;5;241m.\u001b[39mdtype) \u001b[38;5;129;01mand\u001b[39;00m \u001b[38;5;28missubclass\u001b[39m(values\u001b[38;5;241m.\u001b[39mdtype\u001b[38;5;241m.\u001b[39mtype, \u001b[38;5;28mstr\u001b[39m):\n",
      "File \u001b[1;32m~\\anaconda3\\lib\\site-packages\\pandas\\core\\dtypes\\astype.py:170\u001b[0m, in \u001b[0;36mastype_nansafe\u001b[1;34m(arr, dtype, copy, skipna)\u001b[0m\n\u001b[0;32m    166\u001b[0m     \u001b[38;5;28;01mraise\u001b[39;00m \u001b[38;5;167;01mValueError\u001b[39;00m(msg)\n\u001b[0;32m    168\u001b[0m \u001b[38;5;28;01mif\u001b[39;00m copy \u001b[38;5;129;01mor\u001b[39;00m is_object_dtype(arr\u001b[38;5;241m.\u001b[39mdtype) \u001b[38;5;129;01mor\u001b[39;00m is_object_dtype(dtype):\n\u001b[0;32m    169\u001b[0m     \u001b[38;5;66;03m# Explicit copy, or required since NumPy can't view from / to object.\u001b[39;00m\n\u001b[1;32m--> 170\u001b[0m     \u001b[38;5;28;01mreturn\u001b[39;00m \u001b[43marr\u001b[49m\u001b[38;5;241;43m.\u001b[39;49m\u001b[43mastype\u001b[49m\u001b[43m(\u001b[49m\u001b[43mdtype\u001b[49m\u001b[43m,\u001b[49m\u001b[43m \u001b[49m\u001b[43mcopy\u001b[49m\u001b[38;5;241;43m=\u001b[39;49m\u001b[38;5;28;43;01mTrue\u001b[39;49;00m\u001b[43m)\u001b[49m\n\u001b[0;32m    172\u001b[0m \u001b[38;5;28;01mreturn\u001b[39;00m arr\u001b[38;5;241m.\u001b[39mastype(dtype, copy\u001b[38;5;241m=\u001b[39mcopy)\n",
      "\u001b[1;31mValueError\u001b[0m: could not convert string to float: 'None'"
     ]
    }
   ],
   "source": [
    "# Define the data types for the two columns you want to exclude\n",
    "dtype_exceptions = {'fiscalDateEnding': object, 'reportedCurrency': object}\n",
    "\n",
    "# Change the data type of all columns except the two specified in 'dtype_exceptions'\n",
    "for col in df.columns:\n",
    "    if col not in dtype_exceptions:\n",
    "        df[col] = df[col].fillna(0).astype(float)  # Change the data type to the desired type\n",
    "\n",
    "# Print the DataFrame\n",
    "print(df.dtypes)"
   ]
  },
  {
   "cell_type": "code",
   "execution_count": null,
   "metadata": {},
   "outputs": [],
   "source": [
    "df = revenue_df.astype(int)\n",
    "df['Date'] = df['fiscalDateEnding'].dt.strftime('%Y/%m/%d')\n",
    "df = df.astype({\"reportedCurrency\": str})\n",
    "df"
   ]
  },
  {
   "cell_type": "code",
   "execution_count": null,
   "metadata": {},
   "outputs": [],
   "source": [
    "revenue_df.columns"
   ]
  },
  {
   "cell_type": "code",
   "execution_count": null,
   "metadata": {},
   "outputs": [],
   "source": [
    "revenue_df.dtypes"
   ]
  },
  {
   "cell_type": "code",
   "execution_count": 16,
   "metadata": {},
   "outputs": [
    {
     "data": {
      "image/png": "[encoded data removed]",
      "text/plain": [
       "<Figure size 640x480 with 1 Axes>"
      ]
     },
     "metadata": {},
     "output_type": "display_data"
    }
   ],
   "source": [
    "for i in range(len(df)):\n",
    "    plt.bar(df['fiscalDateEnding'][i], int(df['netIncome'][i]))"
   ]
  },
  {
   "cell_type": "markdown",
   "metadata": {},
   "source": [
    "### **2. Loading the data and Pre-processing**"
   ]
  },
  {
   "cell_type": "code",
   "execution_count": null,
   "metadata": {},
   "outputs": [],
   "source": [
    "# Stock data extraction from YahooFinance API. (Note: to calculate stock betas, we added FTSE 100 index to the dataset as well.)\n",
    "#tickers = companies_info['Ticker'].tolist()\n",
    "#tickers = ['ASML', 'NVDA', 'AVGO', 'TSLA', 'FSLR', 'AMD', 'META', 'AMZN', 'V', 'AAPL', 'BABA', 'PYPL', 'GOOGL', 'ULTA']\n",
    "tickers = ['ASML', 'NVDA', 'AVGO', 'TSLA', 'AMD', 'META', 'AMZN', 'AAPL', 'BABA', 'GOOGL']\n",
    "prices = yf.download(tickers, start=\"2018-10-31\", end= date.today())[\"Close\"]\n",
    "\n",
    "#market_price = yf.download('^FTSE', start=\"2022-10-31\", end=\"2023-10-01\")[\"Close\"]\n",
    "market_price = yf.download('SPY', start=\"2018-10-31\", end=date.today())[\"Close\"]\n",
    "prices = pd.concat([market_price,prices,], axis=1)\n",
    "\n",
    "# Converting datetime format\n",
    "prices.reset_index(inplace=True)\n",
    "prices['Date'] = prices['Date'].dt.strftime('%Y/%m/%d')\n",
    "prices['Date'] = pd.to_datetime(prices['Date'])\n",
    "prices.set_index('Date', inplace=True)"
   ]
  },
  {
   "cell_type": "code",
   "execution_count": null,
   "metadata": {},
   "outputs": [],
   "source": [
    "# Renaming columns\n",
    "#prices.columns = ['FTSE 100'] + prices.columns.tolist()[1:]\n",
    "prices.columns = ['SPY'] + prices.columns.tolist()[1:]\n",
    "#prices.columns = companies_info['Company'].to_list() + prices.columns.tolist()[:1]\n",
    "prices.columns = tickers + prices.columns.tolist()[:1]\n",
    "\n",
    "# Filling missing values with interpolation\n",
    "prices = prices.interpolate(method=\"nearest\")\n",
    "prices.tail().round(1)\n",
    "\n",
    "# Exporting prices to csv\n",
    "prices.to_csv('TopTechCompanies_Prices.csv')\n",
    "\n",
    "prices"
   ]
  },
  {
   "cell_type": "code",
   "execution_count": null,
   "metadata": {},
   "outputs": [],
   "source": [
    "# Calculating simple price returns\n",
    "returns = prices.pct_change().dropna()\n",
    "\n",
    "# Splitting returns\n",
    "stock_returns = returns.iloc[:,:-1]\n",
    "market_returns = pd.Series(returns['SPY'])"
   ]
  },
  {
   "cell_type": "markdown",
   "metadata": {},
   "source": [
    "### **3. Descriptive analysis of simple and cumulative returns**"
   ]
  },
  {
   "cell_type": "markdown",
   "metadata": {},
   "source": [
    "#### Daily returns"
   ]
  },
  {
   "cell_type": "code",
   "execution_count": null,
   "metadata": {},
   "outputs": [],
   "source": [
    "# Descriptive statistics of daily returns\n",
    "import scipy.stats as stats\n",
    "summary = round(stock_returns.describe().T, 4)\n",
    "summary['Skew'] = stats.skew(stock_returns._get_numeric_data()).round(4)\n",
    "summary['Kurt'] = stats.kurtosis(stock_returns._get_numeric_data()).round(4)\n",
    "summary = summary.drop('count', axis=1)\n",
    "summary"
   ]
  },
  {
   "cell_type": "markdown",
   "metadata": {},
   "source": [
    "- Shell, AstraZeneca, HSBC Holdings, Diageo, Rio Tinto Group and GlaxoSmithKline have a negatively skewed distribution, i.e, their returns are more concentrated on the right tail of the distribution, whose tail is longer on the left side. Its investors should expect frequent small gains and some large losses.\n",
    "- All stocks feature heavy tails (or that their distribution is leptokurtic), with some of them having a kurtosis greater than 10. Consequently, these stocks will experience more frequent extreme returns (large outliers)."
   ]
  },
  {
   "cell_type": "code",
   "execution_count": null,
   "metadata": {},
   "outputs": [],
   "source": [
    "# Line plot function\n",
    "def line_plot(data,legend_loc, legend_ncol, title, ylabel):\n",
    "    plt.figure(figsize=(15,5))\n",
    "    for col in data:\n",
    "        plt.plot(data.index, data[col], marker='', linewidth=1, label=col)\n",
    "        plt.legend(loc=legend_loc, ncol=legend_ncol)\n",
    "        plt.margins(x=0)\n",
    "        plt.title(title, weight='bold')\n",
    "        plt.ylabel(ylabel)\n",
    "    plt.show()\n",
    "\n",
    "# Plotting daily returns\n",
    "line_plot(data=stock_returns, legend_loc='upper right', legend_ncol=2, \n",
    "            title='Daily Returns', ylabel='Return')"
   ]
  },
  {
   "cell_type": "code",
   "execution_count": null,
   "metadata": {},
   "outputs": [],
   "source": [
    "# Daily Returns distribution\n",
    "fig = plt.figure(figsize=(10,5))\n",
    "sns.kdeplot(data=stock_returns,fill=True)\n",
    "plt.title('Daily Returns Distribution', weight='bold')"
   ]
  },
  {
   "cell_type": "markdown",
   "metadata": {},
   "source": [
    "We can notice the wider distributions for Diageo and British American Tobacco, meaning these companies have higher volatility associated."
   ]
  },
  {
   "cell_type": "code",
   "execution_count": null,
   "metadata": {},
   "outputs": [],
   "source": [
    "# Minimum and maximum returns dates\n",
    "ret_min_max_dates = pd.DataFrame({'Min Return': stock_returns.idxmin(),\n",
    "'Max Return': stock_returns.idxmax()})\n",
    "ret_min_max_dates"
   ]
  },
  {
   "cell_type": "markdown",
   "metadata": {},
   "source": [
    "It appears that most of these stocks had their lowest and highest returns in early 2020, close to the Covid-19 pandemic, which demonstrates the high volatility and financial contagion associated with that period."
   ]
  },
  {
   "cell_type": "code",
   "execution_count": null,
   "metadata": {},
   "outputs": [],
   "source": [
    "# Box Plot of daily returns by year\n",
    "returns_by_year = pd.melt(stock_returns.reset_index(),id_vars='Date')\n",
    "returns_by_year['Year'] = pd.DatetimeIndex(returns_by_year['Date']).year\n",
    "returns_by_year\n",
    "ax = sns.boxplot(data = returns_by_year, x='Year',y='value')\n",
    "ax.set_title('Box Plot of daily returns by year', weight='bold')\n",
    "ax.set_ylabel(''), ax.set_xlabel('')\n",
    "for item in ax.get_xticklabels():\n",
    "    item.set_rotation(90)"
   ]
  },
  {
   "cell_type": "markdown",
   "metadata": {},
   "source": [
    "We can also observe the high volatility in the pandemic first year through this box plot of all returns grouped by year. There is a greater dispersion of data at 2020."
   ]
  },
  {
   "cell_type": "code",
   "execution_count": null,
   "metadata": {},
   "outputs": [],
   "source": [
    "# Risk-Return profile\n",
    "ret_stats = stock_returns.agg(['mean','std']).T\n",
    "ret_stats.columns=['Return','Risk']\n",
    "ret_stats['Return'] = ret_stats['Return']*252\n",
    "ret_stats['Risk'] = ret_stats['Risk']*np.sqrt(252)\n",
    "ret_stats['Sharpe_Ratio']=(ret_stats['Return']-0.03510)/ret_stats['Risk'] # rf: US 10y Bond Yield at January 31,2023\n",
    "ret_stats = ret_stats.sort_values('Sharpe_Ratio', ascending=False)\n",
    "ret_stats.round(3)"
   ]
  },
  {
   "cell_type": "markdown",
   "metadata": {},
   "source": [
    "The Sharpe Ratio is understood as the stock (or portfolio) excess return divided by standard deviation of returns.\n",
    "- AstraZeneca has the highest Sharpe ratio: the investiment provides 0.45 units of return for each unit of risk;\n",
    "- HSBC Holdings and Rio Tinto have negative Sharpe ratios, i.e., both didn't rent more than treasury bills over period, so they may not be worth it for investors who wish to maximize their portfolio ajusted returns."
   ]
  },
  {
   "cell_type": "code",
   "execution_count": null,
   "metadata": {},
   "outputs": [],
   "source": [
    "# Plotting annualized Risk, Return and Sharpe Ratio\n",
    "from adjustText import adjust_text\n",
    "fig = plt.figure(figsize=(10,5))\n",
    "plt.scatter(data=ret_stats,x='Risk',y='Return', c='Sharpe_Ratio', cmap='viridis')\n",
    "plt.colorbar(label='Sharpe Ratio')\n",
    "texts = []\n",
    "for x, y, s in zip(ret_stats['Risk'],ret_stats['Return'], ret_stats.index):\n",
    "    texts.append(plt.text(x,y,s))\n",
    "adjust_text(texts)\n",
    "plt.xlabel('Annualized Risk'), plt.ylabel('Annualized Return')\n",
    "plt.title('Risk-Return profile', weight='bold')"
   ]
  },
  {
   "cell_type": "code",
   "execution_count": null,
   "metadata": {},
   "outputs": [],
   "source": [
    "# Measuring stock volatility through Beta\n",
    "betas = []\n",
    "for i in range(len(stock_returns.columns)):\n",
    "    beta = np.polyfit(market_returns, stock_returns.iloc[:,i],1)[0]\n",
    "    betas.append(beta)\n",
    "betas = pd.DataFrame(betas, columns=['Beta'], index=tickers)\n",
    "#betas = pd.DataFrame(betas, columns=['Beta'], index=companies_info['Company'])\n",
    "betas = betas.sort_values('Beta',ascending=False)\n",
    "betas.round(3)"
   ]
  },
  {
   "cell_type": "markdown",
   "metadata": {},
   "source": [
    "Beta coefficient measures the volatility of a security (or portfolio) compared to the systematic risk of the entire market, so it describes how security's returns responds to swings on the market;\n",
    "- Since all stocks have beta less than one, we can say that they all have lower volatility than the market, that is, the inclusion of each one of them in a portfolio makes it less risky than the same portfolio without that stock."
   ]
  },
  {
   "cell_type": "markdown",
   "metadata": {},
   "source": [
    "#### Cumulative daily returns"
   ]
  },
  {
   "cell_type": "code",
   "execution_count": null,
   "metadata": {},
   "outputs": [],
   "source": [
    "# Calculation of cumulative returns, as the growth of £1 \n",
    "cum_returns = ((1 + stock_returns).cumprod()-1)*100\n",
    "\n",
    "# Rates of change for each company share\n",
    "ticker_change = cum_returns.tail(1).round(3)\n",
    "ticker_change"
   ]
  },
  {
   "cell_type": "markdown",
   "metadata": {},
   "source": [
    "- AstraZeneca and BP clearly stand out as the stocks with the highest growth, being the only ones with a rate of change greather than 100%.\n",
    "- On the other hand, Rio Tinto Group stock increased even less than 1%."
   ]
  },
  {
   "cell_type": "code",
   "execution_count": null,
   "metadata": {},
   "outputs": [],
   "source": [
    "# Plotting daily cummulative returns\n",
    "line_plot(data=cum_returns, legend_loc='upper left', legend_ncol=1,\n",
    "            title='Daily Cummulative Returns', ylabel='Cummulative Return')"
   ]
  },
  {
   "cell_type": "markdown",
   "metadata": {},
   "source": [
    "- Cumulative returns declined during the Covid-19 shock. Particularly, Shell had a big drop to negative values, as a result of the sudden drop in the oil demand following the implementation of restrictions.\n",
    "- AstraZeneca kept a growth trend throughout the entire period."
   ]
  },
  {
   "cell_type": "markdown",
   "metadata": {},
   "source": [
    "#### Correlation and Covariance matrices"
   ]
  },
  {
   "cell_type": "code",
   "execution_count": null,
   "metadata": {},
   "outputs": [],
   "source": [
    "# Correlation Heatmap\n",
    "import seaborn as sns\n",
    "plt.figure(figsize=(15,5))\n",
    "mask = np.triu(np.ones_like(stock_returns.corr(), dtype=bool))\n",
    "my_cmap = sns.diverging_palette(10, 220, sep=80, n=50)\n",
    "sns.heatmap(stock_returns.corr(), mask=mask, annot=True, fmt=\".02f\", cmap='inferno')\n",
    "plt.title('Correlation Heatmap', weight='bold')"
   ]
  },
  {
   "cell_type": "markdown",
   "metadata": {},
   "source": [
    "- We can see that Shell is highly correlated with the remaining stocks, which may be due to its importance in the market, being the most highly-valued british company;\n",
    "- On the othe hand, the second largest british company - AstraZeneca - appears to be the least correlated with the market."
   ]
  },
  {
   "cell_type": "code",
   "execution_count": null,
   "metadata": {},
   "outputs": [],
   "source": [
    "# Annual Covariance matrix\n",
    "cov_matrix = stock_returns.cov(numeric_only=True)*252\n",
    "cov_matrix.round(4)"
   ]
  },
  {
   "cell_type": "markdown",
   "metadata": {},
   "source": [
    "### **2. Portfolio optimization**"
   ]
  },
  {
   "cell_type": "markdown",
   "metadata": {},
   "source": [
    "#### 2.1 GMV and MSR Portfolios"
   ]
  },
  {
   "cell_type": "markdown",
   "metadata": {},
   "source": [
    "##### Portfolio Optimization via Monte Carlo Method"
   ]
  },
  {
   "cell_type": "code",
   "execution_count": null,
   "metadata": {},
   "outputs": [],
   "source": [
    "mean_ret = stock_returns.mean()*252\n",
    "std_returns = stock_returns.std()*np.sqrt(252)\n",
    "\n",
    "assets_num=len(tickers)\n",
    "port_num=50000\n",
    "port_ret=[]\n",
    "port_vol=[]\n",
    "port_weights=[]\n",
    "sharpe_ratio=[]\n",
    "\n",
    "for portfolio in range(port_num):\n",
    "    weights = np.random.random(assets_num)\n",
    "    weights /= np.sum(weights)\n",
    "    ret = np.dot(weights, mean_ret)\n",
    "    vol = np.sqrt(np.dot(weights.T, np.dot(cov_matrix,weights)))\n",
    "    rf = 0.03510 # US 10y Bond Yield at January 31,2023\n",
    "    sharpe = (ret-rf)/vol\n",
    "    sharpe_ratio.append(sharpe)\n",
    "    port_ret.append(ret)\n",
    "    port_vol.append(vol)\n",
    "    port_weights.append(weights)\n",
    "\n",
    "# a dictionary for Returns and Risk values of each portfolio\n",
    "port_dict = {'Returns': port_ret,\n",
    "             'Volatility': port_vol,\n",
    "             'Sharpe Ratio': sharpe_ratio}\n",
    "\n",
    "for counter,symbol in enumerate(tickers):\n",
    "    port_dict[symbol] = [Weight[counter] for Weight in port_weights]\n",
    "\n",
    "port_EF = pd.DataFrame(port_dict)\n",
    "\n",
    "gmv_port_value = port_EF['Volatility'].min()\n",
    "msr_port_value = port_EF['Sharpe Ratio'].max()\n",
    "\n",
    "gmv_port = port_EF.loc[port_EF['Volatility'] == gmv_port_value]\n",
    "msr_port = port_EF.loc[port_EF['Sharpe Ratio'] == msr_port_value]\n",
    "\n",
    "port_EF.plot.scatter(x='Volatility', y='Returns', c='Sharpe Ratio',\n",
    "                cmap='viridis', edgecolors='black', figsize=(10, 8), grid=True)\n",
    "plt.xlabel('Volatility (Standard Deviation)')\n",
    "plt.ylabel('Expected Returns')\n",
    "plt.title('Portfolio Optimization: Efficient Frontier', weight='bold')\n",
    "plt.scatter(x=gmv_port['Volatility'], y=gmv_port['Returns'], c='yellow', marker='*', s=500, label='Global Minimum Variance')\n",
    "plt.scatter(x=msr_port['Volatility'], y=msr_port['Returns'], c='red', marker='*', s=500, label='Maximum Sharpe Ratio')\n",
    "plt.legend(labelspacing=1.2)\n",
    "plt.grid(True)\n",
    "plt.show()"
   ]
  },
  {
   "cell_type": "code",
   "execution_count": null,
   "metadata": {},
   "outputs": [],
   "source": [
    "# Global Minimum Variance Portfolio (GMV) \n",
    "gmv_port.round(3)"
   ]
  },
  {
   "cell_type": "code",
   "execution_count": null,
   "metadata": {},
   "outputs": [],
   "source": [
    "# Maximum Sharpe Ratio Portfolio (MSR)\n",
    "msr_port.round(3)"
   ]
  },
  {
   "cell_type": "markdown",
   "metadata": {},
   "source": [
    "##### Using PyPortfolioOpt library for optimization"
   ]
  },
  {
   "cell_type": "code",
   "execution_count": null,
   "metadata": {},
   "outputs": [],
   "source": [
    "from pypfopt.efficient_frontier import EfficientFrontier\n",
    "from pypfopt import risk_models\n",
    "from pypfopt import expected_returns\n",
    "\n",
    "rf = 0.03510 # US 10y Bond Yield at January 31,2023\n",
    "stock_prices = prices.iloc[:,:-1]\n",
    "mu = expected_returns.mean_historical_return(stock_prices)\n",
    "S = risk_models.sample_cov(stock_prices)\n",
    "ef = EfficientFrontier(mu, S, weight_bounds=(0, 1)) # Weights between 0 and 1, ie, no short-selling\n",
    "\n",
    "# Maximun Sharpe Ratio (MSR) Portfolio\n",
    "opt_msr = ef.max_sharpe(risk_free_rate=rf)\n",
    "weights_msr = ef.clean_weights()\n",
    "print('-----------------------------')\n",
    "print(\"\\033[1m\" + \"Portfolio Performance:\")\n",
    "print('-----------------------------')\n",
    "print('Max Sharpe Portfolio:\\n')\n",
    "print(ef.portfolio_performance(verbose=True, risk_free_rate = rf)[:-3])\n",
    "\n",
    "print('\\nGlobal Min Variance Portfolio:\\n')\n",
    "ef = EfficientFrontier(mu, S, weight_bounds=(0, 1)) # Weights between 0 and 1, ie, no short-selling\n",
    "opt_gmv = ef.min_volatility()\n",
    "weights_gmv = ef.clean_weights()\n",
    "print(ef.portfolio_performance(verbose=True, risk_free_rate = rf)[:-3])"
   ]
  },
  {
   "cell_type": "markdown",
   "metadata": {},
   "source": [
    "#### 2.2 Equally-Weighted Portfolio\n",
    "Each stock counts equally toward the portfolio value."
   ]
  },
  {
   "cell_type": "code",
   "execution_count": null,
   "metadata": {},
   "outputs": [],
   "source": [
    "numstocks = 10\n",
    "weights_ew = np.repeat(1/numstocks,numstocks)\n",
    "ew_df= pd.DataFrame(weights_ew, index=ret_stats.index, columns=['EW'])"
   ]
  },
  {
   "cell_type": "code",
   "execution_count": null,
   "metadata": {},
   "outputs": [],
   "source": [
    "import yfinance as yf\n",
    "\n",
    "#tickers = ['AAPL', 'MSFT', 'GOOGL']  # Example list of tickers, replace with your own\n",
    "\n",
    "market_cap=[]\n",
    "for ticker in tickers:\n",
    "    print(f'Ticker: {ticker}')\n",
    "    stock = yf.Ticker(ticker)\n",
    "    market_cap_value = int(stock.info['marketCap'])\n",
    "    market_cap.append(market_cap_value)\n",
    "    \n",
    "print(market_cap)"
   ]
  },
  {
   "cell_type": "markdown",
   "metadata": {},
   "source": [
    "#### 2.3 Market Cap-Weighted Portfolio\n",
    "In this portfolio, the weighting of each stock is determined by its total market capitalization."
   ]
  },
  {
   "cell_type": "code",
   "execution_count": null,
   "metadata": {},
   "outputs": [],
   "source": [
    "mcap = np.array(market_cap)\n",
    "mcap_weights = mcap/sum(mcap)\n",
    "mcap_df= pd.DataFrame(mcap_weights, index=ret_stats.index, columns=['MCAP'])"
   ]
  },
  {
   "cell_type": "markdown",
   "metadata": {},
   "source": [
    "### **3. Analysis of optimized Portfolios' Performance**\n",
    "In this section we will be focused on the last four portfolios generated:\n",
    "- Equally-Weighted, Market-Cap Weighted, Minimum Variance and Tangency Portfolio (Maximum Sharpe Ratio)"
   ]
  },
  {
   "cell_type": "code",
   "execution_count": null,
   "metadata": {},
   "outputs": [],
   "source": [
    "# Portolio weights\n",
    "gmv_df = pd.DataFrame.from_dict(weights_gmv, orient='index')\n",
    "gmv_df.columns = ['GMV']\n",
    "\n",
    "msr_df = pd.DataFrame.from_dict(weights_msr, orient='index')\n",
    "msr_df.columns = ['MSR']\n",
    "\n",
    "weights_df = pd.concat([ew_df, mcap_df, gmv_df, msr_df],axis=1)\n",
    "\n",
    "fig = plt.figure(figsize=(20,10))\n",
    "colours = dict(zip(weights_df.index, plt.cm.tab10.colors[:len(weights_df.index)]))\n",
    "for column,num in zip(weights_df.columns, range(len(weights_df.columns))):\n",
    "    plt.subplot(1,4,num+1)\n",
    "    labels, values = zip(*((key,value) for key,value in weights_df[column].items() if value>0))\n",
    "    plt.pie(values, labels=labels, colors=[colours[key] for key in labels], autopct='%1.1f%%')\n",
    "    plt.title('{} Portfolio'.format(column), weight='bold')\n",
    "    fig.tight_layout()\n",
    "plt.show()"
   ]
  },
  {
   "cell_type": "code",
   "execution_count": null,
   "metadata": {},
   "outputs": [],
   "source": [
    "# Calculating portfolio returns\n",
    "stock_returns = pd.concat([stock_returns,stock_returns.dot(weights_df)], axis=1)\n",
    "portfolio_returns = stock_returns.iloc[:,-4:]"
   ]
  },
  {
   "cell_type": "code",
   "execution_count": null,
   "metadata": {},
   "outputs": [],
   "source": [
    "# Volatility Analysis\n",
    "# Box plot are applied to visualize the returns dispersion of each portfolio\n",
    "portfolio_returns.plot(kind='box', ylabel=\"Returns\")\n",
    "plt.title(\"Box Plot of Daily Returns\", weight='bold')"
   ]
  },
  {
   "cell_type": "markdown",
   "metadata": {},
   "source": [
    "As expected, the returns of minimum variance portfolio are less dispersed than the other ones, having a lower interquartile range."
   ]
  },
  {
   "cell_type": "code",
   "execution_count": null,
   "metadata": {},
   "outputs": [],
   "source": [
    "# Comparing cumulative returns of individual assets and optimized portfolios\n",
    "cum_returns = ((1 + stock_returns).cumprod() - 1)*100\n",
    "\n",
    "fig = plt.figure(figsize=(15,5))\n",
    "colors=['r', 'g', 'b']\n",
    "for x in cum_returns:\n",
    "        if x in cum_returns.columns[:-4]:\n",
    "                plt.plot(cum_returns.index, cum_returns[x], marker='',\n",
    "                linewidth=1, alpha=0.7, label=x)\n",
    "        else:\n",
    "                plt.plot(cum_returns.index, cum_returns[x], marker='',\n",
    "                        linewidth=4, alpha=1, label=x)\n",
    "plt.title('Daily Cumulative Returns', weight='bold')\n",
    "plt.legend(loc='upper left', ncol=2)\n",
    "plt.margins(x=0)\n",
    "plt.show()"
   ]
  },
  {
   "cell_type": "code",
   "execution_count": null,
   "metadata": {},
   "outputs": [],
   "source": [
    "# Annualized Sharpe Ratios\n",
    "sharpe = (stock_returns.mean()*252-rf) / (stock_returns.std()*np.sqrt(252))\n",
    "sharpe = sharpe.sort_values(ascending=False)\n",
    "\n",
    "palette = ['red' if (x=='MSR' or x=='GMV' or x=='MCAP' or x=='EW') else 'grey' for x in sharpe.index]\n",
    "ax = sns.barplot(x=sharpe.index, y=sharpe.values, palette=palette)\n",
    "plt.xticks(rotation=70)\n",
    "ax.bar_label(ax.containers[0], fmt='%.2f')\n",
    "plt.title('Annualized Sharpe Ratios', weight='bold')"
   ]
  },
  {
   "cell_type": "markdown",
   "metadata": {},
   "source": [
    "#### Rolling statistics"
   ]
  },
  {
   "cell_type": "code",
   "execution_count": null,
   "metadata": {},
   "outputs": [],
   "source": [
    "# Portfolios' volatility over time\n",
    "port_vol = portfolio_returns.rolling(60).std().dropna()*np.sqrt(252) # 30-day rolling window\n",
    "port_vol = port_vol.dropna()\n",
    "\n",
    "# Plotting rolling annualized standard deviation\n",
    "line_plot(data=port_vol, legend_loc='upper left', legend_ncol=1,\n",
    "            title='Rolling Annualized Standard Deviation, 60-day window',\n",
    "            ylabel='Standard Deviation')"
   ]
  },
  {
   "cell_type": "code",
   "execution_count": null,
   "metadata": {},
   "outputs": [],
   "source": [
    "# Rolling betas\n",
    "covariance = portfolio_returns.rolling(60).cov(market_returns)\n",
    "variance = portfolio_returns.rolling(60).var()\n",
    "rolling_beta = covariance.div(variance)\n",
    "rolling_beta = rolling_beta.dropna()\n",
    "\n",
    "# Plotting portfolio Betas\n",
    "line_plot(data=rolling_beta, legend_loc='lower center', legend_ncol=4,\n",
    "            title='Rolling Betas, 60-day window', ylabel='Beta')"
   ]
  },
  {
   "cell_type": "markdown",
   "metadata": {},
   "source": [
    "According to the graph, the maximum sharpe ratio portfolio seems to be less sensitive to the market, at least before 2020."
   ]
  },
  {
   "cell_type": "code",
   "execution_count": null,
   "metadata": {},
   "outputs": [],
   "source": [
    "# Exponentially Weighted Average\n",
    "ewa = portfolio_returns.ewm(halflife=60).mean()\n",
    "\n",
    "line_plot(data=ewa, legend_loc='lower center', legend_ncol=4,\n",
    "            title='Exponentially Weighted Average, 60-day Half-Life',\n",
    "            ylabel='EWA')"
   ]
  },
  {
   "cell_type": "code",
   "execution_count": null,
   "metadata": {},
   "outputs": [],
   "source": [
    "# Annualized Rolling Sharpe Ratio (12 month window)\n",
    "rolling_sr = portfolio_returns.rolling(252).apply(lambda x: ((x.mean()*252)-rf)/(x.std()*np.sqrt(252)), raw=True)\n",
    "rolling_sr = rolling_sr.dropna()\n",
    "\n",
    "plt.figure(figsize=(15,5))\n",
    "line_plot(data=rolling_sr, legend_loc='lower center', legend_ncol=4,\n",
    "            title='Annualised Rolling Sharpe Ratio (12-month period)',\n",
    "            ylabel='Sharpe Ratio')"
   ]
  },
  {
   "cell_type": "markdown",
   "metadata": {},
   "source": [
    "- The rolling estimate provides us with more information than single point estimate for the entire period, allowing to infer whether the risk-adjusted returns are consistent over time or it fluctuates significantly. \n",
    "- As we can see, the SR are volatile which maymay indicate that the portfolios may be riskier at certain time points, namely before 2016 and during Covid-19 crisis, or that it does not perform as well at these time points."
   ]
  },
  {
   "cell_type": "markdown",
   "metadata": {},
   "source": [
    "#### **4. Tail Risk Analysis**\n",
    "Tail risk include low-probability events arising at both ends of a normal distribution curve, also known as tail events."
   ]
  },
  {
   "cell_type": "markdown",
   "metadata": {},
   "source": [
    "##### **4.1 Historical Drawdown**"
   ]
  },
  {
   "cell_type": "code",
   "execution_count": null,
   "metadata": {},
   "outputs": [],
   "source": [
    "# Historical drawdown\n",
    "running_max = np.maximum.accumulate(cum_returns[['GMV','MSR','MCAP','EW']])\n",
    "drawdown = (cum_returns[['GMV','MSR','MCAP','EW']])/running_max - 1\n",
    "drawdown[drawdown > 0] = 0 # because we only care about losses\n",
    "\n",
    "line_plot(data=drawdown, legend_loc='lower center', legend_ncol=4,\n",
    "            title='Historical Drawdown',\n",
    "            ylabel='Drawdown')"
   ]
  },
  {
   "cell_type": "markdown",
   "metadata": {},
   "source": [
    "- A drawdown is an important risk factor and it refers to the the measure of the decline in vale of an investment from a relative peak value to a relative through.\n",
    "- Equally-weighted portfolio (EW) had slightly stronger drawdowns over the period, namely 155% and 86%, at the end of 2015 and at the beginning of 2020, respectively."
   ]
  },
  {
   "cell_type": "markdown",
   "metadata": {},
   "source": [
    "##### **4.2 Value at Risk (VaR) and Conditional Value at Risk (CVaR)**"
   ]
  },
  {
   "cell_type": "markdown",
   "metadata": {},
   "source": [
    "In this section, we will address statistics for measuring economic losses and controlling exposure to Market Risk:\n",
    "- **Value at Risk (VaR)** uses the past observed distribution of portfolios returns to estimate the maximum amount of potential future losses that could happen in a portfolio, for a given likelihood level.\n",
    "- While VaR represents a worst-case loss associated with a probability and a time horizon, **CVaR (also called Expected Shortfall)** is the expected loss if that worst-case threshold is ever crossed, so it accounts for expected losses that occur beyond the VaR breakpoint."
   ]
  },
  {
   "cell_type": "markdown",
   "metadata": {},
   "source": [
    "##### **Historical (Non-Parametric) Method**\n",
    " - In this simple and fast method we calculate VaR and CVaR directly from past returns. There is no hypothesis about the distribution of the data, as it is based on the reorganization of real historical returns, classifying them from worst to best."
   ]
  },
  {
   "cell_type": "code",
   "execution_count": null,
   "metadata": {},
   "outputs": [],
   "source": [
    "portfolios = portfolio_returns.columns\n",
    "fig = plt.figure(figsize=(20,5))\n",
    "var_H_port = []\n",
    "cvar_H_port = []\n",
    "for portfolio,num in zip(portfolios,range(4)):\n",
    "    portfolio_ret = portfolio_returns[portfolio]\n",
    "    # Sorting the returns for plotting\n",
    "    portfolio_ret = portfolio_ret.sort_values()\n",
    "    plt.subplot(1,4,num+1)\n",
    "    # Plot the probability of each return quantile\n",
    "    plt.hist(portfolio_ret, density=True)\n",
    "    # HS VaR and CVaR 90,95,99\n",
    "    var_levels = [90,95]\n",
    "    colors = ['r','g']\n",
    "    for var_level,color in zip(var_levels,colors):\n",
    "        var_H = np.percentile(portfolio_ret, 100-var_level)\n",
    "        plt.axvline(x=var_H, color=color, linestyle=\"-\", label=f'VaR {var_level}: {-var_H*100:.2f}%')\n",
    "        cvar_H = portfolio_ret[portfolio_ret <= var_H].mean()\n",
    "        cvar_H_port.append(cvar_H)\n",
    "        plt.axvline(x=cvar_H, color=color, linestyle=\":\", label=f'CVaR {var_level}: {-cvar_H*100:.2f}%')\n",
    "        plt.title(f'{portfolio}')\n",
    "        plt.legend(loc='upper right',frameon=False)\n",
    "    plt.suptitle('Distribution of Daily Returns', weight='bold')\n",
    "    fig.supylabel('Probability'), fig.supxlabel('Return (%)')\n",
    "    plt.tight_layout(rect=(0.025,0,1,1))\n",
    "    # Calculating maximum historical daily loss\n",
    "    var_H = np.percentile(portfolio_ret, 100-95)\n",
    "    cvar_95_H_min = portfolio_ret[portfolio_ret <= var_H].min()\n",
    "    print(f'Max historical daily loss (95) - {portfolio}: {-cvar_95_H_min*100:.2f}%')"
   ]
  },
  {
   "cell_type": "markdown",
   "metadata": {},
   "source": [
    "- VaR (95) of GMV portoflio indicates that we can be 95% certain that losses will not exceed 1.43% in a given day. What about the losses that exceed this amount? CVaR (95) tells us that in the worst 5% cases, GMV portfolio daily losses will be on average 2.22%, with a maximum value of 9.78%.\n",
    "- Interestingly, the maximum historical loss of the minimum variance portfolio is greater than that of the tangency portfolio."
   ]
  },
  {
   "cell_type": "markdown",
   "metadata": {},
   "source": [
    "\n",
    "##### **VaR over n-day time period**\n",
    " We can calculate the VaR over a longer time window as well. For that, just take our 1 day VaR estimate and multiply it by the square root of the desired time period."
   ]
  },
  {
   "cell_type": "code",
   "execution_count": null,
   "metadata": {},
   "outputs": [],
   "source": [
    "# Aggregate forecasted VaR\n",
    "forecasted_val = np.empty([252, 2]) \n",
    "\n",
    "# Loop through each forecast period\n",
    "data=[]\n",
    "for portfolio in portfolios:\n",
    "    forecasted_val = np.empty([252, 2])\n",
    "    portfolio_ret = portfolio_returns[portfolio]\n",
    "    portfolio_ret = portfolio_ret.sort_values()\n",
    "    for i in range(0,252):\n",
    "        # Save the time horizon i\n",
    "        forecasted_val[i, 0] = i\n",
    "        # Save the forecasted VaR 95\n",
    "        forecasted_val[i, 1] = np.percentile(portfolio_ret, 100-95) * np.sqrt(i+1)\n",
    "    # Data for plotting\n",
    "    x = forecasted_val[:,0]\n",
    "    y = forecasted_val[:,1]*(-100)\n",
    "    plt.plot(x,y, label=portfolio)\n",
    "plt.title('VaR (95) scaled by time', weight='bold')\n",
    "plt.ylabel('Forecasted VaR 95 (%)'), plt.xlabel('Trading days')\n",
    "plt.legend(loc=0, frameon=False)\n",
    "plt.show()"
   ]
  },
  {
   "cell_type": "markdown",
   "metadata": {},
   "source": [
    "##### **Parametric (Variance-Covariance) Method**\n",
    "This approach assumes a normal distribution of returns, meaning we only need to estimate two factors - the expected return and the standard deviation - which allows us to plot a normal distribution curve."
   ]
  },
  {
   "cell_type": "code",
   "execution_count": null,
   "metadata": {},
   "outputs": [],
   "source": [
    "from scipy.stats import norm\n",
    "# Normal distribution assumption\n",
    "def parametric_var(portfolio,alpha):\n",
    "    portfolio_ret = portfolio_returns[portfolio]\n",
    "    mu = np.mean(portfolio_ret)\n",
    "    std = np.std(portfolio_ret)\n",
    "    return mu - norm.ppf(alpha)*std\n",
    "\n",
    "def parametric_cvar(portfolio,alpha):\n",
    "    portfolio_ret = portfolio_returns[portfolio]\n",
    "    mu = np.mean(portfolio_ret)\n",
    "    std = np.std(portfolio_ret)\n",
    "    return mu + alpha**-1 * norm.pdf(norm.ppf(alpha))*std\n",
    "\n",
    "var_p_table = pd.DataFrame()\n",
    "for portfolio in portfolios:\n",
    "    var_p = parametric_var(portfolio,0.05)\n",
    "    cvar_p = parametric_cvar(portfolio,0.05)\n",
    "    var_p_table_temp = pd.DataFrame({'Parametric VaR (95)':var_p,'Parametric CVaR (95)':cvar_p}, \n",
    "                                    index=[portfolio])\n",
    "    for col in var_p_table_temp[-2:]:\n",
    "        var_p_table_temp[col] = var_p_table_temp[col].apply(lambda x: \"{:.2f}%\".format(x*100))\n",
    "    var_p_table = pd.concat((var_p_table,var_p_table_temp))\n",
    "var_p_table"
   ]
  },
  {
   "cell_type": "markdown",
   "metadata": {},
   "source": [
    "##### **Monte Carlo Method**\n",
    "Monte Carlo Simulation is similar to Historical Simulation in that it estimates VaR by simulating risk factor scenarios and revaluing all positions in a portfolio for each trial. Nevertheless, it generates the risk factor scenarios through the lognormal distribution,instead of creating them from a historical distribution.\n",
    "\n",
    "This way, both models share the same distribution assumption for risk factors, but the approach for generating the price distribution of the asset isn't the same. We estimate value at risk by calculating the change in value for each scenario and looking at the worst losses."
   ]
  },
  {
   "cell_type": "code",
   "execution_count": null,
   "metadata": {},
   "outputs": [],
   "source": [
    "trading_days = 252 # forecast period\n",
    "S0 = 10000 # initial portfolio value\n",
    "simulations_number = 1500 # number of simulations\n",
    "sim_returns = []\n",
    "fig_0 = plt.figure(0,figsize=(25,5))\n",
    "fig_1 = plt.figure(1,figsize=(25,5))\n",
    "colors = ['r','g']\n",
    "var_levels = [90,95]\n",
    "for portfolio,num in zip(portfolios,range(4)):\n",
    "    portfolio_ret = portfolio_returns[portfolio]\n",
    "    mu = np.mean(portfolio_ret)\n",
    "    std = np.std(portfolio_ret)\n",
    "    # Loop through 100 simulations\n",
    "    plt.figure(0)\n",
    "    for i in range(simulations_number):\n",
    "        random_rets = np.random.normal(mu, std, trading_days)   \n",
    "        forecasted_values = S0*(random_rets+1).cumprod()-1\n",
    "        sim_returns.append(random_rets)\n",
    "        # Show the simulations\n",
    "        plt.subplot(1,4,num+1)\n",
    "        plt.plot(range(trading_days), forecasted_values)\n",
    "        plt.title(f'{portfolio}')\n",
    "    plt.suptitle('1500 Portfolio Simulations', weight='bold')\n",
    "    fig_0.supylabel('Portfolio Value (£)'), fig_0.supxlabel('Days')\n",
    "    plt.tight_layout(rect=(0.025,0,1,1))\n",
    "    # Returns distribution\n",
    "    plt.figure(1)\n",
    "    plt.subplot(1,4,num+1)\n",
    "    plt.hist(portfolio_ret, density=True)\n",
    "    for var_level,color in zip(var_levels,colors):\n",
    "        var_mc = np.percentile(sim_returns, 100-var_level)\n",
    "        cvar_mc = np.array(sim_returns)[np.array(sim_returns) <= var_mc].mean()\n",
    "        plt.axvline(x=var_mc, color=color, linestyle=\"-\", \n",
    "                    label=f'VaR {var_level}: {-var_mc*100:.2f}%')\n",
    "        plt.axvline(x=cvar_mc, color=color, linestyle=\":\",\n",
    "                    label=f'CVaR {var_level}: {-cvar_mc*100:.2f}%')\n",
    "        plt.title(f'{portfolio}')\n",
    "        plt.legend(loc='upper right',frameon=False)\n",
    "    plt.suptitle('Distribution of Daily Returns', weight='bold')\n",
    "    fig_1.supylabel('Probability'), fig_1.supxlabel('Return (%)')\n",
    "    plt.tight_layout(rect=(0.025,0,1,1))"
   ]
  },
  {
   "cell_type": "markdown",
   "metadata": {},
   "source": [
    "##### **Expected losses of our investment portfolio**\n",
    "95% Value at Risk of £10,000 investment in each portfolio over different time frames"
   ]
  },
  {
   "cell_type": "code",
   "execution_count": null,
   "metadata": {},
   "outputs": [],
   "source": [
    "from scipy.stats import norm\n",
    "def var(method,portfolio, investment, time_frame, confidence_level):\n",
    "    # time horizon of VaR\n",
    "    if time_frame == 'day':\n",
    "        days = 1\n",
    "    elif time_frame == 'month':\n",
    "        days = 21\n",
    "    elif time_frame == 'quarter':\n",
    "        days = 63\n",
    "    elif time_frame == 'year':\n",
    "        days = 252\n",
    "    else:\n",
    "        raise ValueError ('time_frame input invalid.')\n",
    "    \n",
    "    portfolio_ret = portfolio_returns[portfolio]\n",
    "    mu = np.mean(portfolio_ret)\n",
    "    std = np.std(portfolio_ret)\n",
    "\n",
    "    # Var estimation method\n",
    "    if method=='parametric':\n",
    "        alpha = (100-confidence_level)/100\n",
    "        var = investment*(mu-norm.ppf(alpha)*std)*np.sqrt(days)\n",
    "        return var\n",
    "    elif method=='historical':\n",
    "        portfolio_ret = portfolio_ret.sort_values()\n",
    "        var = investment*(-np.percentile(portfolio_ret, 100-confidence_level)*np.sqrt(days))\n",
    "        return var\n",
    "    elif method=='monte carlo':\n",
    "        for i in range(1500):\n",
    "            random_rets = np.random.normal(mu, std, 252)\n",
    "            forecasted_values = 10*(random_rets+1).cumprod()-1\n",
    "            sim_returns.append(random_rets)\n",
    "        var = investment*(-np.percentile(sim_returns, 100-confidence_level)*np.sqrt(days))\n",
    "        return var\n",
    "    else:\n",
    "        raise ValueError ('method input invalid')\n",
    "\n",
    "var_table = pd.DataFrame()\n",
    "methods = ['historical','parametric','monte carlo']\n",
    "for method in methods:\n",
    "    for portfolio in portfolios:\n",
    "        # Portfolio VaR calculation for each time horizon:\n",
    "        var_p_d = var(method=method, portfolio=portfolio,investment = 10000, time_frame='day',\n",
    "                    confidence_level=95)\n",
    "        var_p_m = var(method=method, portfolio=portfolio, investment = 10000, time_frame='month',\n",
    "                    confidence_level=95)\n",
    "        var_p_q = var(method=method, portfolio=portfolio, investment = 10000, time_frame='quarter',\n",
    "                    confidence_level=95)\n",
    "        var_p_y = var(method=method, portfolio=portfolio, investment = 10000, time_frame='year',\n",
    "                    confidence_level=95)\n",
    "        var_table_temp = pd.DataFrame({'Method':method,'Daily':[var_p_d],'Monthly':[var_p_m], \n",
    "                                        'Quarterly':[var_p_q], 'Annual':[var_p_y]}, index=[portfolio])\n",
    "        # Format numbers as currency\n",
    "        for col in var_table_temp.columns[-4:]:\n",
    "            var_table_temp[col]= var_table_temp[col].apply(lambda x: \"£{:,.1f}\".format(x))\n",
    "        var_table = pd.concat([var_table,var_table_temp])\n",
    "var_table"
   ]
  },
  {
   "cell_type": "markdown",
   "metadata": {},
   "source": [
    "- According to historical method, with 95 percent confidence level, our losses from a £10,000 investment in MSR portfolio won't exceed the value of £854.2 in a given month.\n",
    "- Parametric and Monte Carlo approaches estimate higher VaR than the historical method.\n",
    "- Unlike the other methods, there's very litle disparity in values when using Monte Carlo Simulation approach."
   ]
  }
 ],
 "metadata": {
  "kernelspec": {
   "display_name": "Python 3 (ipykernel)",
   "language": "python",
   "name": "python3"
  },
  "language_info": {
   "codemirror_mode": {
    "name": "ipython",
    "version": 3
   },
   "file_extension": ".py",
   "mimetype": "text/x-python",
   "name": "python",
   "nbconvert_exporter": "python",
   "pygments_lexer": "ipython3",
   "version": "3.10.9"
  },
  "vscode": {
   "interpreter": {
    "hash": "8679208bc8135ef657bbe8f5ca5700d715886c358f73853ac43c8010eabe6a8d"
   }
  }
 },
 "nbformat": 4,
 "nbformat_minor": 4
}
